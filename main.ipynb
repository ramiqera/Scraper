{
 "cells": [
  {
   "cell_type": "markdown",
   "metadata": {},
   "source": [
    "%pip install beautifulsoup"
   ]
  },
  {
   "cell_type": "markdown",
   "metadata": {},
   "source": [
    "%pip install requests"
   ]
  },
  {
   "cell_type": "markdown",
   "metadata": {},
   "source": [
    "%pip install selenium\n"
   ]
  },
  {
   "cell_type": "code",
   "execution_count": 27,
   "metadata": {},
   "outputs": [],
   "source": [
    "from bs4 import BeautifulSoup\n",
    "import requests"
   ]
  },
  {
   "cell_type": "code",
   "execution_count": 51,
   "metadata": {},
   "outputs": [
    {
     "name": "stdout",
     "output_type": "stream",
     "text": [
      "Getting page , 0\n",
      "Getting page , 10\n",
      "Getting page , 20\n",
      "Getting page , 30\n",
      "Getting page , 40\n",
      "Getting page , 50\n",
      "Getting page , 60\n",
      "Getting page , 70\n",
      "Getting page , 80\n",
      "Getting page , 90\n",
      "Getting page , 100\n",
      "Getting page , 110\n",
      "Getting page , 120\n",
      "Getting page , 130\n",
      "Getting page , 140\n",
      "Getting page , 150\n",
      "Getting page , 160\n",
      "Getting page , 170\n",
      "Getting page , 180\n",
      "Getting page , 190\n",
      "                             title               company  \\\n",
      "0  Junior Data Analyst - Insurance                Mavriq   \n",
      "1          Energy Industry Analyst  Octopus Energy Group   \n",
      "2                     Data Analyst       Covisian S.p.A.   \n",
      "3            Business Data Analyst                  Dune   \n",
      "4                     Data Analyst              Peroptyx   \n",
      "\n",
      "                  salary                     location  \n",
      "0              No salary                 20100 Milano  \n",
      "1            Tempo pieno            Milano, Lombardia  \n",
      "2    Tempo indeterminato                51100 Pistoia  \n",
      "3         Tempo pieno +1            Milano, Lombardia  \n",
      "4  390 € - 780 € al mese  Remoto in Milano, Lombardia  \n"
     ]
    }
   ],
   "source": [
    "from selenium import webdriver\n",
    "from selenium.webdriver.edge.service import Service\n",
    "from selenium.webdriver.common.by import By\n",
    "from selenium.webdriver.support.ui import WebDriverWait\n",
    "from selenium.webdriver.support import expected_conditions as EC\n",
    "from bs4 import BeautifulSoup\n",
    "import time\n",
    "import pandas as pd\n",
    "\n",
    "def extract_selenium(page):\n",
    "    url = f'https://it.indeed.com/jobs?q=data+analyst&l=Italia&start={page}'\n",
    "\n",
    "    # Path to your msedgedriver executable\n",
    "    edge_service = Service(r'C:/Users/rami.simaan/Downloads/edgedriver_win32/msedgedriver.exe')  # Path to the executable\n",
    "\n",
    "    # Set up the WebDriver (using Edge in this case)\n",
    "    driver = webdriver.Edge(service=edge_service)\n",
    "\n",
    "    # Load the webpage\n",
    "    driver.get(url)\n",
    "\n",
    "    # Wait for the job postings to load (adjust the wait time if needed)\n",
    "    try:\n",
    "        # Wait until at least one job posting is present\n",
    "        WebDriverWait(driver, 10).until(\n",
    "            EC.presence_of_element_located((By.CSS_SELECTOR, 'div.job_seen_beacon'))\n",
    "        )\n",
    "    except Exception as e:\n",
    "        print(f\"Error while waiting for page to load: {e}\")\n",
    "\n",
    "    # Get the page source after JavaScript execution\n",
    "    html = driver.page_source\n",
    "\n",
    "    # Close the browser\n",
    "    driver.quit()\n",
    "\n",
    "    # Parse the page with BeautifulSoup\n",
    "    soup = BeautifulSoup(html, 'html.parser')\n",
    "    return soup\n",
    "\n",
    "def transform(soup):\n",
    "    divs = soup.find_all('div', class_='job_seen_beacon')\n",
    "    for item in divs:\n",
    "        title = item.find('a').get_text() if item.find('a') else 'No title'\n",
    "        company = item.find('span', {'data-testid': 'company-name'}).get_text() if item.find('span', {'data-testid': 'company-name'}) else 'No company'\n",
    "        salary = item.find('div', {'data-testid': 'attribute_snippet_testid'}).get_text() if item.find('div', {'data-testid': 'attribute_snippet_testid'}) else 'No salary'\n",
    "        location = item.find('div', {'data-testid': 'text-location'}).get_text() if item.find('div', {'data-testid': 'text-location'}) else 'No location'\n",
    "\n",
    "        #print(f\"Title: {title}\")\n",
    "        #print(f\"Company: {company}\")\n",
    "        #print(f\"Salary: {salary}\")\n",
    "        #print(f\"Location: {location}\")\n",
    "        #print(\"-\" * 40)\n",
    "\n",
    "        job = {\n",
    "            'title': title,\n",
    "            'company': company,\n",
    "            'salary' : salary,\n",
    "            'location' : location,\n",
    "        }\n",
    "        joblist.append(job)\n",
    "    return\n",
    "\n",
    "\n",
    "joblist=[]\n",
    "\n",
    "for i in range(0,200,10):\n",
    "   print(f'Getting page , {i}')\n",
    "   c = extract_selenium(0)\n",
    "   transform(c)\n",
    "\n",
    "\n",
    "df = pd.DataFrame(joblist)\n",
    "\n",
    "print(df.head())\n",
    "\n",
    "df.to_csv('jobs.csv')"
   ]
  }
 ],
 "metadata": {
  "kernelspec": {
   "display_name": "scraping",
   "language": "python",
   "name": "python3"
  },
  "language_info": {
   "codemirror_mode": {
    "name": "ipython",
    "version": 3
   },
   "file_extension": ".py",
   "mimetype": "text/x-python",
   "name": "python",
   "nbconvert_exporter": "python",
   "pygments_lexer": "ipython3",
   "version": "3.11.5"
  }
 },
 "nbformat": 4,
 "nbformat_minor": 2
}
